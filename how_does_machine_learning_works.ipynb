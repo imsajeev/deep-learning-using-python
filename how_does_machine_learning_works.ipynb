{
  "nbformat": 4,
  "nbformat_minor": 0,
  "metadata": {
    "colab": {
      "name": "how does machine learning works.ipynb",
      "provenance": []
    },
    "kernelspec": {
      "name": "python3",
      "display_name": "Python 3"
    }
  },
  "cells": [
    {
      "cell_type": "markdown",
      "metadata": {
        "id": "8lvYeh7hpgUm",
        "colab_type": "text"
      },
      "source": [
        "# Regression\n",
        "Regression refers to functions that attempt to predict a real value output.The most common class of regression is linear regression, based on the concepts we’ve previously described in modeling systems of linear equations. Linear regression attempts to come up with a function that describes ***the relationship between x and y, and, for known values of x, predicts values of y*** that turn out to be accurate.\n",
        "\n",
        "We can model this by using the following equation:\n",
        "\n",
        "y = a + Bx\n",
        "\n",
        "where a is the y-intercept, \n",
        "\n",
        "B is the input features, \n",
        "\n",
        "and x is the parameter vector."
      ]
    },
    {
      "cell_type": "code",
      "metadata": {
        "id": "476a_o9Pnppq",
        "colab_type": "code",
        "colab": {
          "base_uri": "https://localhost:8080/",
          "height": 282
        },
        "outputId": "c6e10061-07c5-4d26-d342-f0ce64c02eaa"
      },
      "source": [
        "import matplotlib.pyplot as plt\n",
        "from scipy import stats\n",
        "\n",
        "# x being age of car\n",
        "# y being the max speed which it can travel\n",
        "\n",
        "x = [5,7,8,7,2,17,2,9,4,11,12,9,6]\n",
        "y = [99,86,87,88,111,86,103,87,94,78,77,85,86]\n",
        "\n",
        "slope, intercept, r, p, std_err = stats.linregress(x, y)\n",
        "\n",
        "def myfunc(x):\n",
        "  # y=a+bX\n",
        "  return intercept + slope * x\n",
        "\n",
        "mymodel = list(map(myfunc, x))\n",
        "\n",
        "plt.scatter(x, y)\n"
      ],
      "execution_count": 1,
      "outputs": [
        {
          "output_type": "execute_result",
          "data": {
            "text/plain": [
              "<matplotlib.collections.PathCollection at 0x7fbd18a161d0>"
            ]
          },
          "metadata": {
            "tags": []
          },
          "execution_count": 1
        },
        {
          "output_type": "display_data",
          "data": {
            "image/png": "[encoded data removed]",
            "text/plain": [
              "<Figure size 432x288 with 1 Axes>"
            ]
          },
          "metadata": {
            "tags": [],
            "needs_background": "light"
          }
        }
      ]
    },
    {
      "cell_type": "code",
      "metadata": {
        "id": "3MApTyd9oEwG",
        "colab_type": "code",
        "colab": {
          "base_uri": "https://localhost:8080/",
          "height": 282
        },
        "outputId": "a86b5909-c227-4840-a78a-0db17862f0cb"
      },
      "source": [
        "plt.plot(x, mymodel)\n"
      ],
      "execution_count": 2,
      "outputs": [
        {
          "output_type": "execute_result",
          "data": {
            "text/plain": [
              "[<matplotlib.lines.Line2D at 0x7fbd1899e0f0>]"
            ]
          },
          "metadata": {
            "tags": []
          },
          "execution_count": 2
        },
        {
          "output_type": "display_data",
          "data": {
            "image/png": "[encoded data removed]",
            "text/plain": [
              "<Figure size 432x288 with 1 Axes>"
            ]
          },
          "metadata": {
            "tags": [],
            "needs_background": "light"
          }
        }
      ]
    },
    {
      "cell_type": "code",
      "metadata": {
        "id": "5cVDHckooITN",
        "colab_type": "code",
        "colab": {
          "base_uri": "https://localhost:8080/",
          "height": 282
        },
        "outputId": "443aaa74-9eef-40e7-eaf8-212af2db4274"
      },
      "source": [
        "plt.scatter(x, y)\n",
        "plt.plot(x, mymodel)"
      ],
      "execution_count": 3,
      "outputs": [
        {
          "output_type": "execute_result",
          "data": {
            "text/plain": [
              "[<matplotlib.lines.Line2D at 0x7fbd184ba390>]"
            ]
          },
          "metadata": {
            "tags": []
          },
          "execution_count": 3
        },
        {
          "output_type": "display_data",
          "data": {
            "image/png": "[encoded data removed]",
            "text/plain": [
              "<Figure size 432x288 with 1 Axes>"
            ]
          },
          "metadata": {
            "tags": [],
            "needs_background": "light"
          }
        }
      ]
    },
    {
      "cell_type": "markdown",
      "metadata": {
        "id": "uvHbAPJXsfRb",
        "colab_type": "text"
      },
      "source": [
        "## some other examples of linear regression modeling\n",
        "Predicting weight as a function of height\n",
        "\n",
        "Predicting a house’s sale price based on its square footage\n"
      ]
    },
    {
      "cell_type": "code",
      "metadata": {
        "id": "rtYrEPYrtJk1",
        "colab_type": "code",
        "colab": {
          "base_uri": "https://localhost:8080/",
          "height": 33
        },
        "outputId": "b484cb7e-bbba-4679-b26c-ec9f5c719a36"
      },
      "source": [
        "speed=myfunc(10)\n",
        "speed"
      ],
      "execution_count": 11,
      "outputs": [
        {
          "output_type": "execute_result",
          "data": {
            "text/plain": [
              "85.59308314937454"
            ]
          },
          "metadata": {
            "tags": []
          },
          "execution_count": 11
        }
      ]
    },
    {
      "cell_type": "markdown",
      "metadata": {
        "id": "IF5Ed1g-Syxc",
        "colab_type": "text"
      },
      "source": [
        "# Three components to solve\n",
        "A hypothesis about the data\n",
        "\n",
        "    The inner product of the parameter vector x and the input features (as displayed above)\n",
        "\n",
        "A cost function\n",
        "\n",
        "    Squared error (prediction – actual) of prediction\n",
        "\n",
        "An update function\n",
        "\n",
        "    The derivative of the squared error loss function (cost function)"
      ]
    },
    {
      "cell_type": "markdown",
      "metadata": {
        "id": "5IPrq2VoZVaW",
        "colab_type": "text"
      },
      "source": [
        "# Classification\n",
        "Classification is modeling based on delineating classes of output based on some set of input features.\n",
        "\n",
        "    Regression give us an outcome of \"how much\"\n",
        "\n",
        "    classification gives us an outcome of \"what kind.”\n",
        "\n",
        "most basic form of classification is a binary classifier that only has a single\n",
        "output with two labels (two classes: **0 and 1**, respectively)\n",
        "\n",
        "The output can also be a floating-point number between **0.0 and 1.0** to indicate a classification below absolute certaintity"
      ]
    },
    {
      "cell_type": "markdown",
      "metadata": {
        "id": "LsHCBNLwcdU0",
        "colab_type": "text"
      },
      "source": [
        "Examples of binary classification include:\n",
        "\n",
        "\n",
        "\n",
        "\n",
        "*   Classifying whether someone has a disease or not\n",
        "*   Classifying an email as spam or not spam\n",
        "\n",
        "*   Classifying a transaction as fraudulent or nominal\n",
        "\n",
        "Beyond two labels, we can have classification models that have N labels for\n",
        "which we’d score each of the output labels, and then the label with the highest\n",
        "score is the output label\n",
        "![alt text](https://miro.medium.com/max/2560/1*GnNVxoh_H8n7Z2d7ceCBUw.jpeg)\n",
        "\n",
        "\n",
        "**Suggest some features that will help us in classifying the fruits**\n",
        "\n",
        "\n"
      ]
    },
    {
      "cell_type": "markdown",
      "metadata": {
        "id": "r7basNqAdomY",
        "colab_type": "text"
      },
      "source": [
        "# Clustering\n",
        "\n",
        "Clustering is the task of **grouping together** a set of objects in a way that **objects in the same cluster are more similar** to each other than to objects in other clusters\n",
        "\n",
        "**Similarity** is a metric that reflects the strength of relationship between two data objects\n",
        "\n",
        "K-means clustering is one of the more\n",
        "famous variations of clustering in machine learning\n",
        "\n",
        "\n",
        "[clustering process](https://photos.google.com/photo/AF1QipMjgRg4_jj-FoS4AdNJWHuIOzxiNQTSInPAWh4-)\n",
        "\n",
        "[after clustering](https://photos.google.com/photo/AF1QipPD63fI-QAWK4sezqHpXm8jivHmsrn3xbdAwadg)"
      ]
    },
    {
      "cell_type": "markdown",
      "metadata": {
        "id": "KPp10aC5htlc",
        "colab_type": "text"
      },
      "source": [
        "# Underfitting and Overfitting\n",
        "\n",
        "[link text](https://photos.google.com/photo/AF1QipO27gFR1qy-4q8-2GHU8stXBXrvLsB3XU02OuQF)\n",
        "\n",
        "\n",
        "Underfitting – **High bias and low variance**\n",
        "\n",
        "Techniques to reduce underfitting :\n",
        "1. Increase model complexity\n",
        "2. Increase number of features, performing feature engineering\n",
        "3. Remove noise from the data.\n",
        "4. Increase the number of epochs or increase the duration of training to get better results.\n",
        "\n",
        "Overfitting – **High variance and low bias**\n",
        "\n",
        "Techniques to reduce overfitting :\n",
        "1. Increase training data.\n",
        "2. Reduce model complexity.\n",
        "3. Early stopping during the training phase (have an eye over the loss over the training period as soon as loss begins to increase stop training).\n",
        "4. Ridge Regularization and Lasso Regularization\n",
        "5. Use dropout for neural networks to tackle overfitting.\n",
        "\n",
        "\n",
        "Note: \n",
        "\n",
        "***Bias*** is the simplifying assumptions made by the model to make the target function easier to approximate. \n",
        "\n",
        "***Variance*** is the amount that the estimate of the target function will change given different training data. "
      ]
    },
    {
      "cell_type": "markdown",
      "metadata": {
        "id": "uEW10PoNw_Ra",
        "colab_type": "text"
      },
      "source": [
        "# Optimization\n",
        "process of adjusting weights to produce more and more\n",
        "accurate guesses about the data is known as parameter optimization\n",
        "\n",
        "You formulate a hypothesis, test it against reality, and refine or replace that hypothesis again and again to better describe events in the world.\n",
        "\n",
        "\n",
        "Following are the three important functions at work in machine learning\n",
        "optimization:\n",
        "\n",
        "**Parameters**\n",
        "\n",
        "    Transform input to help determine the classifications a network infers\n",
        "\n",
        "**Loss function**\n",
        "\n",
        "\n",
        "    Gauges how well it classifies (minimizes error) at each step\n",
        "\n",
        "\n",
        "Optimization function\n",
        "  \n",
        "  \n",
        "    Guides it toward the points of least error\n"
      ]
    }
  ]
}